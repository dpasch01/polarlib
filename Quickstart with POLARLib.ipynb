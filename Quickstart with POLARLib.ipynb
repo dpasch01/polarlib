{
 "cells": [
  {
   "cell_type": "code",
   "execution_count": null,
   "id": "ec141a09-a44a-4ae7-adc0-f50c1945b207",
   "metadata": {},
   "outputs": [],
   "source": [
    "!git clone https://github.com/dpasch01/polarlib"
   ]
  },
  {
   "cell_type": "code",
   "execution_count": null,
   "id": "9ed57a56-0c8f-46c2-8ae2-3b23c142963e",
   "metadata": {},
   "outputs": [],
   "source": [
    "import sys\n",
    " \n",
    "sys.path.insert(0, './polarlib')"
   ]
  },
  {
   "cell_type": "code",
   "execution_count": null,
   "id": "f169b3e9-6758-4a4d-9ecb-402718fe7c2b",
   "metadata": {},
   "outputs": [],
   "source": [
    "OUTPUT_DIR=\"./polar-quickstart\""
   ]
  },
  {
   "cell_type": "markdown",
   "id": "603c0d6d-9d2a-4ef6-a33b-d065eba6511c",
   "metadata": {},
   "source": [
    "# **POLAR** Quickstart"
   ]
  },
  {
   "cell_type": "markdown",
   "id": "871bd42f-d75f-447f-bcc2-223a3cac88e9",
   "metadata": {
    "jp-MarkdownHeadingCollapsed": true
   },
   "source": [
    "## 1. Collect **News Corpus**"
   ]
  },
  {
   "cell_type": "code",
   "execution_count": null,
   "id": "f688c384-9ec6-4328-8f08-e74f035b459a",
   "metadata": {},
   "outputs": [],
   "source": [
    "%load_ext autoreload\n",
    "%autoreload 2\n",
    "    \n",
    "import spacy\n",
    "   \n",
    "from polarlib.polar.news_corpus_collector import *\n",
    "\n",
    "keywords = [\"openai\", \"altman\", 'chatgpt', 'gpt']\n",
    "\n",
    "corpus_collector = NewsCorpusCollector(\n",
    "    output_dir=OUTPUT_DIR,\n",
    "    from_date=date(year=2023, month=11, day=16),\n",
    "    to_date=date(year=2023, month=11, day=23),\n",
    "    keywords=keywords\n",
    ")\n",
    "\n",
    "corpus_collector.collect_archives()\n",
    "corpus_collector.collect_articles(n_articles = 250)\n",
    "corpus_collector.pre_process_articles()"
   ]
  },
  {
   "cell_type": "markdown",
   "id": "13d44a3c-8b92-492d-bb18-120c86069800",
   "metadata": {
    "jp-MarkdownHeadingCollapsed": true
   },
   "source": [
    "## 2. Extract **Entities** and **Noun Phrases**"
   ]
  },
  {
   "cell_type": "code",
   "execution_count": null,
   "id": "725d9e70-edb4-431e-b33f-0ddd319c0c43",
   "metadata": {},
   "outputs": [],
   "source": [
    "%load_ext autoreload\n",
    "%autoreload 2\n",
    "    \n",
    "import spacy\n",
    "   \n",
    "from polarlib.polar.actor_extractor import *\n",
    "\n",
    "entity_extractor = EntityExtractor(output_dir=OUTPUT_DIR)"
   ]
  },
  {
   "cell_type": "markdown",
   "id": "19887857-286f-4ded-b0f5-9e2f57f1dbf9",
   "metadata": {},
   "source": [
    "If using `coref=True`, then set `n_processes=1` as the coreference resolution model operates sequentially."
   ]
  },
  {
   "cell_type": "code",
   "execution_count": null,
   "id": "a760d0b5-cf62-4240-916b-2e215bbf79b9",
   "metadata": {},
   "outputs": [],
   "source": [
    "entity_extractor = EntityExtractor(output_dir=OUTPUT_DIR, coref=False)"
   ]
  },
  {
   "cell_type": "code",
   "execution_count": null,
   "id": "67d1108a-ab8e-4986-870d-094418a308c6",
   "metadata": {},
   "outputs": [],
   "source": [
    "entity_extractor.extract_entities()"
   ]
  },
  {
   "cell_type": "code",
   "execution_count": null,
   "id": "cf3c7254-627c-4244-b7a9-0175449cd8e0",
   "metadata": {},
   "outputs": [],
   "source": [
    "transformation_list = [\n",
    "    (\"replace\", {\n",
    "        \"http://dbpedia.org/resource/Robert_Altman\": \"http://dbpedia.org/resource/Sam_Altman\",\n",
    "        \"http://dbpedia.org/resource/Open_Archives_Initiative\": \"http://dbpedia.org/resource/OpenAI\"\n",
    "    }),\n",
    "    (\"delete\", [\n",
    "        \"http://dbpedia.org/resource/Japanese_honorifics\"\n",
    "    ])\n",
    "]"
   ]
  },
  {
   "cell_type": "code",
   "execution_count": null,
   "id": "c0a0e7ec-442e-4c4c-94bc-89d89516e26e",
   "metadata": {},
   "outputs": [],
   "source": [
    "entity_extractor.apply_transformations(transformation_list)"
   ]
  },
  {
   "cell_type": "code",
   "execution_count": null,
   "id": "460ac89b-1dee-4bab-9e66-c8da487a9181",
   "metadata": {},
   "outputs": [],
   "source": [
    "from tqdm import tqdm\n",
    "\n",
    "import json, itertools\n",
    "\n",
    "article_entities_list = []\n",
    "\n",
    "for root, folders, files in tqdm(list(os.walk(os.path.join(OUTPUT_DIR, 'entities')))):\n",
    "\n",
    "    for p in files: \n",
    "\n",
    "        p = os.path.join(root, p)\n",
    "\n",
    "        with open(p, 'r') as f:\n",
    "\n",
    "            entities = json.load(f)\n",
    "\n",
    "            if isinstance(entities, str):\n",
    "            \n",
    "                entities = json.loads(entities)\n",
    "\n",
    "        article_entities_list += [e['title'] for e in list(itertools.chain.from_iterable([s['entities'] for s in entities['entities']]))]"
   ]
  },
  {
   "cell_type": "code",
   "execution_count": null,
   "id": "f53b8a52-238e-45aa-809a-beaf84dd090d",
   "metadata": {
    "scrolled": true
   },
   "outputs": [],
   "source": [
    "from collections import Counter\n",
    "\n",
    "for e in Counter(article_entities_list).most_common(50): print('- {0:100} {1}'.format(e[0], e[1]))"
   ]
  },
  {
   "cell_type": "code",
   "execution_count": null,
   "id": "68f41a4f-f093-4397-b1a2-ff7326117514",
   "metadata": {},
   "outputs": [],
   "source": [
    "%load_ext autoreload\n",
    "%autoreload 2\n",
    "\n",
    "from polarlib.polar.actor_extractor import *\n",
    "\n",
    "noun_phrase_extractor = NounPhraseExtractor(output_dir=OUTPUT_DIR)"
   ]
  },
  {
   "cell_type": "code",
   "execution_count": null,
   "id": "bfb78a47-12d5-4e6c-a62c-32b9128e3f4a",
   "metadata": {},
   "outputs": [],
   "source": [
    "noun_phrase_extractor.extract_noun_phrases()"
   ]
  },
  {
   "cell_type": "code",
   "execution_count": null,
   "id": "61c7ad5e-5fad-4048-beaa-d6f678e072b3",
   "metadata": {},
   "outputs": [],
   "source": [
    "noun_phrase_extractor.apply_transformations(transformation_list)"
   ]
  },
  {
   "cell_type": "markdown",
   "id": "5c1c5b35-1368-4fe1-bb0e-05abcf0ec4a8",
   "metadata": {},
   "source": [
    "## 3. Identify **Discussion Topics**"
   ]
  },
  {
   "cell_type": "markdown",
   "id": "ca228550-01e0-4a2d-aa02-0f37dbdc0858",
   "metadata": {},
   "source": [
    "Use `llama_wv=True` to leverage llama-based semantic vector embeddings to construct the topical clusters. Otherwise, the default is the `all-mpnet-base-v2` sentence transformers."
   ]
  },
  {
   "cell_type": "code",
   "execution_count": null,
   "id": "40b8ef51-6c62-4c30-94df-f3e56f6018a9",
   "metadata": {},
   "outputs": [],
   "source": [
    "%load_ext autoreload\n",
    "%autoreload 2\n",
    "   \n",
    "from polarlib.polar.topic_identifier import *"
   ]
  },
  {
   "cell_type": "code",
   "execution_count": null,
   "id": "4f868e19-1a6c-4c74-96b9-6c26251116f8",
   "metadata": {
    "scrolled": true
   },
   "outputs": [],
   "source": [
    "topic_identifier = TopicIdentifier(output_dir = OUTPUT_DIR, llama_wv=True)\n",
    "\n",
    "topic_identifier.encode_noun_phrases()\n",
    "topic_identifier.noun_phrase_clustering(threshold=0.8)"
   ]
  },
  {
   "cell_type": "markdown",
   "id": "a9d593af-b8d3-487b-97d5-6c9c166764ae",
   "metadata": {},
   "source": [
    "#### Filter Topics according **Contextual Relevance**"
   ]
  },
  {
   "cell_type": "markdown",
   "id": "2404bfe6-4c32-475b-8310-56318a578ea9",
   "metadata": {},
   "source": [
    "A way to improve the quality of the topics is to calculate their `contextual relevance` with the case study. To do so, we must extract the `seed words` and keep the topical clusters that are relevant with our case study."
   ]
  },
  {
   "cell_type": "markdown",
   "id": "c1565701-117e-431f-8055-9ff9695c0dcc",
   "metadata": {},
   "source": [
    "To do so, we use the `KeyBERT` library to extract key phrases from each article. Then we iterate the topical clusters and we identify those that are contextually relevant, according to their average semantic distance with each phrase."
   ]
  },
  {
   "cell_type": "code",
   "execution_count": null,
   "id": "e382ebb7-389f-4d37-9aa2-2d4696fbad7c",
   "metadata": {},
   "outputs": [],
   "source": [
    "def replace_entities_with_placeholder(data, placeholder=\"[ENTITY]\"):\n",
    "\n",
    "    sentence = data['sentence']\n",
    "    entities = sorted(data['entities'], key=lambda x: x['begin'], reverse=True)  \n",
    "\n",
    "    for entity in entities:\n",
    "\n",
    "        start, end = entity['begin'], entity['end']\n",
    "        sentence   = sentence[:start - data['from']] + placeholder + sentence[end - data['from']:]\n",
    "\n",
    "    return sentence"
   ]
  },
  {
   "cell_type": "code",
   "execution_count": null,
   "id": "fc4ecc16-3bb7-4c0e-97cd-f69431c4737b",
   "metadata": {},
   "outputs": [],
   "source": [
    "import json\n",
    "\n",
    "docs = []\n",
    "\n",
    "for a in noun_phrase_extractor.entity_paths:\n",
    "\n",
    "    a_entities = load_article(a)\n",
    "    a_text     = '\\n\\n'.join([replace_entities_with_placeholder(s, placeholder=\"######\") for s in a_entities['entities']])\n",
    "\n",
    "    docs.append(a_text)"
   ]
  },
  {
   "cell_type": "code",
   "execution_count": null,
   "id": "e58ce62e-b400-432e-9487-2e7fad28f906",
   "metadata": {},
   "outputs": [],
   "source": []
  },
  {
   "cell_type": "code",
   "execution_count": null,
   "id": "0c09a8e3-58ea-47d0-8e2d-42ff1800e50b",
   "metadata": {},
   "outputs": [],
   "source": [
    "seed_phrases = TopicIdentifier.extract_seed_phrases(docs, top_n=20)"
   ]
  },
  {
   "cell_type": "code",
   "execution_count": null,
   "id": "0a078774-9fb3-4b67-8c3e-638723141021",
   "metadata": {},
   "outputs": [],
   "source": [
    "contextual_relevance_scores = TopicIdentifier.calculate_contextual_relevance_scores(OUTPUT_DIR, seed_phrases)"
   ]
  },
  {
   "cell_type": "code",
   "execution_count": null,
   "id": "b6c060f2-ef89-4d25-8b21-32cc1c99ce06",
   "metadata": {},
   "outputs": [],
   "source": []
  },
  {
   "cell_type": "code",
   "execution_count": null,
   "id": "b9b82e6b-6f29-484c-8216-672ab713dce0",
   "metadata": {},
   "outputs": [],
   "source": [
    "import matplotlib.pyplot as plt\n",
    "\n",
    "plt.figure(figsize=(16, 4))\n",
    "\n",
    "plt.hist(contextual_relevance_scores.values(), rwidth=0.95, edgecolor='black', log=True)\n",
    "plt.title(\"Contextual Relevance Scores\")\n",
    "plt.xlabel(\"Score\")\n",
    "plt.ylabel(\"Frequency\")\n",
    "\n",
    "plt.tight_layout()\n",
    "plt.show()"
   ]
  },
  {
   "cell_type": "code",
   "execution_count": null,
   "id": "50d0006e-de33-4504-a6c6-1b1065acede8",
   "metadata": {},
   "outputs": [],
   "source": []
  },
  {
   "cell_type": "code",
   "execution_count": null,
   "id": "2246fce1-1a30-45ca-bc43-a17e28af74a9",
   "metadata": {},
   "outputs": [],
   "source": [
    "\"\"\"TopicIdentifier.contextual_relevance_filtering(output_dir, contextual_relevance_scores, thr=0.0)\"\"\""
   ]
  },
  {
   "cell_type": "code",
   "execution_count": null,
   "id": "9fd6490c-3b10-4ddd-9072-1b2c56df7a2a",
   "metadata": {},
   "outputs": [],
   "source": [
    "with gzip.open(os.path.join(OUTPUT_DIR, 'topics.json.gz'), 'r') as f: polar_topics = json.load(f)"
   ]
  },
  {
   "cell_type": "markdown",
   "id": "fa562e5d-86ca-459d-8051-820990092e4d",
   "metadata": {
    "jp-MarkdownHeadingCollapsed": true
   },
   "source": [
    "## 4. Extract **Sentiment Attitudes**"
   ]
  },
  {
   "cell_type": "code",
   "execution_count": null,
   "id": "db2eec37-d329-49c3-9578-6d98dbf505c1",
   "metadata": {},
   "outputs": [],
   "source": [
    "import spacy\n",
    "\n",
    "spacy_nlp  = spacy.load(\"en_core_web_sm\")"
   ]
  },
  {
   "cell_type": "code",
   "execution_count": null,
   "id": "faa4b31d-ff19-440b-b75b-02dbaf684ada",
   "metadata": {},
   "outputs": [],
   "source": [
    "%load_ext autoreload\n",
    "%autoreload 2\n",
    "\n",
    "from polarlib.polar.attitude.syntactical_sentiment_attitude import *\n",
    "\n",
    "sentiment_attitude_pipeline = SyntacticalSentimentAttitudePipeline(\n",
    "\toutput_dir = OUTPUT_DIR,\n",
    "    nlp        = spacy_nlp,\n",
    "\tmpqa_path  = \"PARALLAX/Secondary/../../Sentiment Attitude Classification/subjectivity_clues_hltemnlp05/subjclueslen1-HLTEMNLP05.tff\"\n",
    ")"
   ]
  },
  {
   "cell_type": "code",
   "execution_count": null,
   "id": "2e6be78d-525f-46ba-a44c-fb9bfb3b78b2",
   "metadata": {},
   "outputs": [],
   "source": [
    "sentiment_attitude_pipeline.calculate_sentiment_attitudes()"
   ]
  },
  {
   "cell_type": "markdown",
   "id": "fa740dce-068c-4b3e-93fc-8f520bdf749d",
   "metadata": {
    "jp-MarkdownHeadingCollapsed": true
   },
   "source": [
    "## 5. Construct **Sentiment Attitude Graph (SAG)**"
   ]
  },
  {
   "cell_type": "code",
   "execution_count": null,
   "id": "8d42f24f-5a89-4ce2-a1d3-3e34d900d219",
   "metadata": {},
   "outputs": [],
   "source": [
    "%load_ext autoreload\n",
    "%autoreload 2\n",
    "\n",
    "from polarlib.polar.coalitions_and_conflicts import *\n",
    "from polarlib.polar.sag_generator import *"
   ]
  },
  {
   "cell_type": "code",
   "execution_count": null,
   "id": "6a3a0f1b-02e1-4880-9109-5775f3e06a70",
   "metadata": {},
   "outputs": [],
   "source": [
    "sag_generator = SAGGenerator(OUTPUT_DIR)\n",
    "\n",
    "sag_generator.load_sentiment_attitudes()"
   ]
  },
  {
   "cell_type": "code",
   "execution_count": null,
   "id": "178e387e-3e88-4517-ab8c-172b4ae15a5b",
   "metadata": {},
   "outputs": [],
   "source": [
    "bins = sag_generator.calculate_attitude_buckets(verbose=True, figsize=(16, 4))"
   ]
  },
  {
   "cell_type": "code",
   "execution_count": null,
   "id": "2eee382e-06b7-4f51-9af3-df768ca47fb1",
   "metadata": {},
   "outputs": [],
   "source": [
    "pair_frequency_dict = {k: len([_ for _ in v if _ != 0]) for k, v in sag_generator.pair_sentiment_attitude_dict.items()}"
   ]
  },
  {
   "cell_type": "markdown",
   "id": "e84dedf2-8983-4e21-a277-7da2883a0446",
   "metadata": {},
   "source": [
    "Apply the PARALLAX encoding: $\\alpha (e_i, e_j) \\geq thr$\n",
    "\n",
    "We calculate the $thr$ as the average of the median values of positive ($A^+$) and negative ($A^-$) attitudes."
   ]
  },
  {
   "cell_type": "code",
   "execution_count": null,
   "id": "101836fe-3cf5-48f3-8bfe-361e2d095d73",
   "metadata": {},
   "outputs": [],
   "source": [
    "import itertools\n",
    "\n",
    "attitudes = list(itertools.chain.from_iterable(sag_generator.pair_sentiment_attitude_dict.values()))"
   ]
  },
  {
   "cell_type": "code",
   "execution_count": null,
   "id": "f4f266a7-09a6-4cb0-b554-abab775e9c76",
   "metadata": {},
   "outputs": [],
   "source": [
    "a_plus  = [a for a in attitudes if a > 0]\n",
    "a_minus = [a for a in attitudes if a < 0]\n",
    "\n",
    "a_thr = (numpy.median(a_plus) + numpy.median(a_minus)) / 2\n",
    "\n",
    "print(\"median +:\", numpy.median(a_plus))\n",
    "print(\"median -:\", numpy.median(a_minus))\n",
    "print(\"thr     :\", a_thr)"
   ]
  },
  {
   "cell_type": "code",
   "execution_count": null,
   "id": "2e29c756-f99c-45b1-a871-3211eefbf8ea",
   "metadata": {},
   "outputs": [],
   "source": [
    "plt.figure(figsize=(16, 3))\n",
    "\n",
    "plt.hist(list(pair_frequency_dict.values()), rwidth=0.95, log=True)\n",
    "\n",
    "plt.show()\n",
    "\n",
    "plt.figure(figsize=(16, 3))\n",
    "\n",
    "plt.hist([v for v in list(pair_frequency_dict.values()) if v < 50], rwidth=0.95, log=True)\n",
    "\n",
    "plt.show()"
   ]
  },
  {
   "cell_type": "code",
   "execution_count": null,
   "id": "0455f590-3ed0-4175-9b43-4659be52b662",
   "metadata": {},
   "outputs": [],
   "source": [
    "sag_generator.convert_attitude_signs(\n",
    "    bin_category_mapping = {\n",
    "        \"NEGATIVE\":  [(-1.00, a_thr)],\n",
    "        \"NEUTRAL\":   [(a_thr, a_thr)],\n",
    "        \"POSITIVE\":  [(a_thr, 1.00)]\n",
    "    },\n",
    "    minimum_frequency    = 5,\n",
    "    verbose              = True\n",
    ")"
   ]
  },
  {
   "cell_type": "code",
   "execution_count": null,
   "id": "db57daff-2477-4d7e-bd1b-abf6947b0e19",
   "metadata": {},
   "outputs": [],
   "source": [
    "G, node_to_int, int_to_node = sag_generator.construct_sag()"
   ]
  },
  {
   "cell_type": "code",
   "execution_count": null,
   "id": "7fa3bc6a-f71e-41c9-8060-63c6b64a03aa",
   "metadata": {},
   "outputs": [],
   "source": [
    "print('Number of Nodes:', G.number_of_nodes())\n",
    "print('Number of Edges:', G.number_of_edges())"
   ]
  },
  {
   "cell_type": "markdown",
   "id": "ae5160f3-a6c8-42ae-bf0d-087ffbd561f3",
   "metadata": {
    "jp-MarkdownHeadingCollapsed": true
   },
   "source": [
    "## 6. Generate the **Entity Fellowships**"
   ]
  },
  {
   "cell_type": "code",
   "execution_count": null,
   "id": "23eb2e45-9c5d-44c0-b759-4198be57e5c0",
   "metadata": {
    "scrolled": true
   },
   "outputs": [],
   "source": [
    "%load_ext autoreload\n",
    "%autoreload 2\n",
    "    \n",
    "from polarlib.polar.coalitions_and_conflicts import *\n",
    "\n",
    "fellowship_extractor = FellowshipExtractor(OUTPUT_DIR)\n",
    "\n",
    "fellowships = fellowship_extractor.extract_fellowships(\n",
    "    n_iter      = 10,\n",
    "    resolution  = 0.075,\n",
    "    merge_iter  = 10,\n",
    "    jar_path    ='/home/dpasch01/pycharm/polar-framework/',\n",
    "    verbose     = True,\n",
    "    output_flag = True\n",
    ")"
   ]
  },
  {
   "cell_type": "markdown",
   "id": "a336f529-85ed-4121-ab59-001f909aca0e",
   "metadata": {
    "jp-MarkdownHeadingCollapsed": true
   },
   "source": [
    "## 7. Generate the **Fellowships Dipoles**"
   ]
  },
  {
   "cell_type": "code",
   "execution_count": null,
   "id": "f73199f4-76cc-49fb-adad-0a0762c405ee",
   "metadata": {},
   "outputs": [],
   "source": [
    "import sys\n",
    " \n",
    "sys.path.insert(0, '/home/dpasch01/pycharm/polar-framework')"
   ]
  },
  {
   "cell_type": "code",
   "execution_count": null,
   "id": "761a66eb-3761-4fe3-be84-7a338f77fae7",
   "metadata": {},
   "outputs": [],
   "source": [
    "OUTPUT_DIR=\"./polar-quickstart\""
   ]
  },
  {
   "cell_type": "code",
   "execution_count": null,
   "id": "d8312ecb-d956-4d82-b4b0-46916c97cadf",
   "metadata": {},
   "outputs": [],
   "source": [
    "%load_ext autoreload\n",
    "%autoreload 2\n",
    "    \n",
    "from polarlib.polar.coalitions_and_conflicts import *\n",
    "\n",
    "dipole_generator = DipoleGenerator(OUTPUT_DIR)\n",
    "dipoles          = dipole_generator.generate_dipoles(f_g_thr=0.7, n_r_thr=0.5)"
   ]
  },
  {
   "cell_type": "code",
   "execution_count": null,
   "id": "e279fe26-900d-4adc-b9a1-43ac3405c1c4",
   "metadata": {},
   "outputs": [],
   "source": [
    "sorted(dipoles, key=lambda d: d[1]['neg'], reverse=True)[3]"
   ]
  },
  {
   "cell_type": "markdown",
   "id": "e32bbf1b-bf68-4659-a1e0-66d1a0267650",
   "metadata": {
    "jp-MarkdownHeadingCollapsed": true
   },
   "source": [
    "## 8. Calculate the **Topical Attitudes**"
   ]
  },
  {
   "cell_type": "code",
   "execution_count": null,
   "id": "af9b4940-679f-43ab-bae0-d332f659c674",
   "metadata": {},
   "outputs": [],
   "source": [
    "%load_ext autoreload\n",
    "%autoreload 2\n",
    "    \n",
    "from polarlib.polar.coalitions_and_conflicts import *\n",
    "\n",
    "topic_attitude_calculator = TopicAttitudeCalculator(OUTPUT_DIR)"
   ]
  },
  {
   "cell_type": "code",
   "execution_count": null,
   "id": "f5926385-d346-43fb-a560-da1b2c7ac639",
   "metadata": {},
   "outputs": [],
   "source": [
    "print('Number of NPs:   ', len(topic_attitude_calculator.np_topics_dict))\n",
    "print('Number of Topics:', len(topic_attitude_calculator.topics))"
   ]
  },
  {
   "cell_type": "code",
   "execution_count": null,
   "id": "e4656be1-7fcd-4570-8cfc-fcbece8074b2",
   "metadata": {},
   "outputs": [],
   "source": [
    "print('Number of Attitude Paths:', len(topic_attitude_calculator.attitude_path_list))"
   ]
  },
  {
   "cell_type": "code",
   "execution_count": null,
   "id": "7f40be42-4ca5-413c-9fd7-7916d6dccd2f",
   "metadata": {},
   "outputs": [],
   "source": [
    "topic_attitude_calculator.load_sentiment_attitudes()"
   ]
  },
  {
   "cell_type": "code",
   "execution_count": null,
   "id": "47bba364-e72a-486e-afa4-922abefb05f7",
   "metadata": {},
   "outputs": [],
   "source": [
    "dipole_topics_dict = topic_attitude_calculator.get_polarization_topics()"
   ]
  },
  {
   "cell_type": "code",
   "execution_count": null,
   "id": "b39e5fd0-bc36-4df1-b031-9e068744787d",
   "metadata": {},
   "outputs": [],
   "source": [
    "dipole_topics_dict = topic_attitude_calculator.dipole_topics_dict"
   ]
  },
  {
   "cell_type": "code",
   "execution_count": null,
   "id": "8709a6ef-3bf3-4926-bd75-40d20df008c3",
   "metadata": {},
   "outputs": [],
   "source": [
    "dipoles = topic_attitude_calculator.dipoles"
   ]
  },
  {
   "cell_type": "code",
   "execution_count": null,
   "id": "c01d14fd-10a9-477b-9e39-2640c725fe74",
   "metadata": {
    "scrolled": true
   },
   "outputs": [],
   "source": [
    "topic_attitudes = topic_attitude_calculator.get_topic_attitudes()"
   ]
  },
  {
   "cell_type": "markdown",
   "id": "c58d0f34-2c6a-4f59-a87c-7fde804872e1",
   "metadata": {},
   "source": [
    "# **PRISM** Quickstart"
   ]
  },
  {
   "cell_type": "code",
   "execution_count": null,
   "id": "2f420d20-4ee7-421c-a53a-eeb0cc812811",
   "metadata": {},
   "outputs": [],
   "source": [
    "%load_ext autoreload\n",
    "%autoreload 2\n",
    "\n",
    "from polarlib.prism.polarization_knowledge_graph import *\n",
    "\n",
    "pkg = PolarizationKnowledgeGraph(output_dir = OUTPUT_DIR)"
   ]
  },
  {
   "cell_type": "code",
   "execution_count": null,
   "id": "01c83295-1ad2-4f94-acd8-cc968e1a021c",
   "metadata": {},
   "outputs": [],
   "source": [
    "pkg.construct()"
   ]
  },
  {
   "cell_type": "code",
   "execution_count": null,
   "id": "c5158dbc-f610-418f-8a80-22b01508bcb9",
   "metadata": {},
   "outputs": [],
   "source": [
    "print('Nodes:', pkg.pkg.number_of_nodes())\n",
    "print('Edges:', pkg.pkg.number_of_edges())"
   ]
  },
  {
   "cell_type": "markdown",
   "id": "ef37f843-0688-425c-abd1-5da7bcdad1e3",
   "metadata": {
    "jp-MarkdownHeadingCollapsed": true
   },
   "source": [
    "## **Entity-level** Polarization Analytics"
   ]
  },
  {
   "cell_type": "code",
   "execution_count": null,
   "id": "7539fb14-7780-4bab-98ef-a327464fce7e",
   "metadata": {},
   "outputs": [],
   "source": [
    "%load_ext autoreload\n",
    "%autoreload 2\n",
    "\n",
    "from polarlib.prism.multi_level_polarization import POLEExecutor"
   ]
  },
  {
   "cell_type": "code",
   "execution_count": null,
   "id": "62d97d2f-2727-47fa-bf30-03e9d4419115",
   "metadata": {},
   "outputs": [],
   "source": [
    "!git clone https://github.com/zexihuang/POLE"
   ]
  },
  {
   "cell_type": "code",
   "execution_count": null,
   "id": "97068fbc-9f01-4c4f-88c1-2a42364ca2dc",
   "metadata": {},
   "outputs": [],
   "source": [
    "%load_ext autoreload\n",
    "%autoreload 2\n",
    "\n",
    "from polarlib.prism.multi_level_polarization import EntityLevelPolarizationAnalyzer\n",
    "\n",
    "entity_level_analyzer = EntityLevelPolarizationAnalyzer()"
   ]
  },
  {
   "cell_type": "code",
   "execution_count": null,
   "id": "b2f31d4c-86c0-47e0-9534-238183249866",
   "metadata": {},
   "outputs": [],
   "source": [
    "df = entity_level_analyzer.analyze(pkg, pole_path='./', output_dir=OUTPUT_DIR)"
   ]
  },
  {
   "cell_type": "code",
   "execution_count": null,
   "id": "b2a31d86-9214-4b92-b14a-9eca94536ff6",
   "metadata": {},
   "outputs": [],
   "source": [
    "import pandas as pd\n",
    "\n",
    "from tabulate import tabulate\n",
    "\n",
    "df.sample(4)"
   ]
  },
  {
   "cell_type": "markdown",
   "id": "5d476854-1f2c-44ce-9393-dc7c7974b9aa",
   "metadata": {},
   "source": [
    "#### Find **<span style=\"background-color:blue; color:white;\">Protagonists</span>**"
   ]
  },
  {
   "cell_type": "code",
   "execution_count": null,
   "id": "edf9235b-e9b2-4a2c-9b23-28a568b90196",
   "metadata": {},
   "outputs": [],
   "source": [
    "print(tabulate(df[(df['pos.'] + df['neg.']) > 0].sort_values(by=['score'], ascending=[False])[['entity', 'ssa', 'mu', 'pos.', 'neg.']].iloc[:5], headers='keys', tablefmt='grid'))"
   ]
  },
  {
   "cell_type": "markdown",
   "id": "44806735-81a7-4ca1-b891-499a0cd27fae",
   "metadata": {},
   "source": [
    "#### Find **<span style=\"background-color:red; color:white;\">Antagonists</span>**"
   ]
  },
  {
   "cell_type": "code",
   "execution_count": null,
   "id": "f70ff3d8-23b0-4a1d-9bbc-80a4b35410ed",
   "metadata": {},
   "outputs": [],
   "source": [
    "print(tabulate(df[(df['pos.'] + df['neg.']) > 0].sort_values(by=['score'], ascending=[True])[['entity', 'ssa', 'mu', 'pos.', 'neg.']].iloc[:5], headers='keys', tablefmt='grid'))"
   ]
  },
  {
   "cell_type": "markdown",
   "id": "c0fa44cf-ef34-43ea-8e71-afcee170c82c",
   "metadata": {},
   "source": [
    "#### Most **Polarized** Entities"
   ]
  },
  {
   "cell_type": "code",
   "execution_count": null,
   "id": "f05fe94b-618d-4ffb-bdba-edaa9c13ae76",
   "metadata": {},
   "outputs": [],
   "source": [
    "print(tabulate(df[(df['pos.'] + df['neg.']) > 5].sort_values(by=['mu'], ascending=[False])[['entity', 'ssa', 'mu', 'pos.', 'neg.']].iloc[:5], headers='keys', tablefmt='grid'))"
   ]
  },
  {
   "cell_type": "markdown",
   "id": "393bf87b-2bc8-437e-a056-c492dca51cf0",
   "metadata": {
    "jp-MarkdownHeadingCollapsed": true
   },
   "source": [
    "## **Group-level** Polarization Analytics"
   ]
  },
  {
   "cell_type": "code",
   "execution_count": null,
   "id": "c2e4ba42-fef0-42c5-a7a3-0f0a31e68fa9",
   "metadata": {},
   "outputs": [],
   "source": [
    "import polarlib.prism.cohesiveness.cohesiveness as cohesiveness"
   ]
  },
  {
   "cell_type": "markdown",
   "id": "09da3a30-fd96-4ead-a251-3f47bb916663",
   "metadata": {},
   "source": [
    "Set `cohesiveness.DOWNLOAD_FLAG=True` if this is the first time executing the pipeline for this approach. This will fetch the wikipages for the entities to determine their political affiliations (if possible)."
   ]
  },
  {
   "cell_type": "code",
   "execution_count": null,
   "id": "c81b8451-8b52-4833-91fd-4f2aa8ed9617",
   "metadata": {},
   "outputs": [],
   "source": [
    "cohesiveness.DOWNLOAD_FLAG = False"
   ]
  },
  {
   "cell_type": "code",
   "execution_count": null,
   "id": "c7176bdb-d867-4f9b-bf6a-0ec42f64d74b",
   "metadata": {
    "scrolled": true
   },
   "outputs": [],
   "source": [
    "from polarlib.prism.multi_level_polarization import GroupLevelPolarizationAnalyzer\n",
    "\n",
    "group_analyzer = GroupLevelPolarizationAnalyzer()\n",
    "\n",
    "coh_df, att_df = group_analyzer.analyze(pkg, output_dir=OUTPUT_DIR, download_flag=True, wlpa_flag=True)"
   ]
  },
  {
   "cell_type": "code",
   "execution_count": null,
   "id": "8049ea38-3bfe-4cdb-9f3c-f44f52797b3c",
   "metadata": {},
   "outputs": [],
   "source": [
    "att_df['representation'] = att_df['topic'].apply(lambda t: ', '.join(polar_topics[t]['noun_phrases'][:3]))"
   ]
  },
  {
   "cell_type": "code",
   "execution_count": null,
   "id": "5dfa6bc7-3212-4635-9927-94b8f025dc45",
   "metadata": {},
   "outputs": [],
   "source": [
    "att_df.sort_values(by=['attitude_population', 'member_ratio'], ascending=[False, False]).iloc[:10]"
   ]
  },
  {
   "cell_type": "code",
   "execution_count": null,
   "id": "e24bb7cb-d167-4eb6-a5f0-b4a60c3393df",
   "metadata": {},
   "outputs": [],
   "source": [
    "for e in fellowships[9]: print('-', e)\n",
    "\n",
    "print()\n",
    "\n",
    "for e in fellowships[11]: print('-', e)"
   ]
  },
  {
   "cell_type": "markdown",
   "id": "5de92062-d2b0-4dfb-a6ec-f4d037789b51",
   "metadata": {},
   "source": [
    "## **Topic-level** Polarization Analytics"
   ]
  },
  {
   "cell_type": "code",
   "execution_count": null,
   "id": "d82067ab-62ae-4688-9be3-f543c750cfd5",
   "metadata": {},
   "outputs": [],
   "source": [
    "%load_ext autoreload\n",
    "%autoreload 2\n",
    "\n",
    "from polarlib.prism.multi_level_polarization import TopicLevelPolarizationAnalyzer\n",
    "\n",
    "topic_analyzer = TopicLevelPolarizationAnalyzer()"
   ]
  },
  {
   "cell_type": "code",
   "execution_count": null,
   "id": "c3cb241f-d195-4a35-932d-3f21af59c18c",
   "metadata": {},
   "outputs": [],
   "source": [
    "local_df, global_df = topic_analyzer.analyze(pkg)"
   ]
  },
  {
   "cell_type": "code",
   "execution_count": null,
   "id": "7a53f887-2ba3-4eb7-a138-df67d3bf7a9c",
   "metadata": {},
   "outputs": [],
   "source": [
    "global_df['representation'] = global_df['topic'].apply(lambda t: ', '.join(polar_topics[t]['noun_phrases'][:3]))"
   ]
  },
  {
   "cell_type": "code",
   "execution_count": null,
   "id": "b9fb63d9-fecb-4972-8b73-0107b504bc78",
   "metadata": {},
   "outputs": [],
   "source": [
    "relevant_topics = [kv[0] for kv in contextual_relevance_scores.items() if kv[1] > 0.0]"
   ]
  },
  {
   "cell_type": "code",
   "execution_count": null,
   "id": "a552da64-683c-4968-a391-5270ede298c0",
   "metadata": {
    "scrolled": true
   },
   "outputs": [],
   "source": [
    "global_df[global_df['topic'].isin(relevant_topics)].sort_values(by='score', ascending=False)[['topic', 'obst', 'mt', 'score', 'representation']].iloc[:25]"
   ]
  },
  {
   "cell_type": "code",
   "execution_count": null,
   "id": "52af24bb-3e46-459d-9951-d3a81dc7fe33",
   "metadata": {},
   "outputs": [],
   "source": []
  }
 ],
 "metadata": {
  "kernelspec": {
   "display_name": "Python 3 (ipykernel)",
   "language": "python",
   "name": "python3"
  },
  "language_info": {
   "codemirror_mode": {
    "name": "ipython",
    "version": 3
   },
   "file_extension": ".py",
   "mimetype": "text/x-python",
   "name": "python",
   "nbconvert_exporter": "python",
   "pygments_lexer": "ipython3",
   "version": "3.10.12"
  }
 },
 "nbformat": 4,
 "nbformat_minor": 5
}
